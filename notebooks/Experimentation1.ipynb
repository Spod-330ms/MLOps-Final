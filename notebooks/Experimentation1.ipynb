{
 "cells": [
  {
   "cell_type": "markdown",
   "id": "83f7f828",
   "metadata": {},
   "source": [
    "# Wine quality classification\n",
    "\n",
    "### Getting the source file from: \n",
    "https://www.kaggle.com/datasets/sahideseker/wine-quality-classification/data"
   ]
  },
  {
   "cell_type": "code",
   "execution_count": 9,
   "id": "41b426ae",
   "metadata": {},
   "outputs": [],
   "source": [
    "import os\n",
    "from pathlib import Path\n",
    "container_check = os.getenv(\"iscontainer\")\n",
    "if container_check==\"y\":\n",
    "    config_dir = Path(\"/home/vscode/.config/kaggle\")\n",
    "    config_dir.mkdir(parents=True, exist_ok=True)\n",
    "    \n",
    "    with open(config_dir / \"kaggle.json\", \"w\") as dst:\n",
    "        with open(\"./kaggle.json\", \"r\") as src:\n",
    "            dst.write(src.read())"
   ]
  },
  {
   "cell_type": "code",
   "execution_count": 10,
   "id": "be1debf7",
   "metadata": {},
   "outputs": [
    {
     "name": "stdout",
     "output_type": "stream",
     "text": [
      "Dataset URL: https://www.kaggle.com/datasets/sahideseker/wine-quality-classification\n",
      "Download complete.\n",
      "Path to file: data\\wine-quality\\wine_quality_classification.csv\n"
     ]
    }
   ],
   "source": [
    "import os\n",
    "import zipfile\n",
    "from pathlib import Path\n",
    "from kaggle.api.kaggle_api_extended import KaggleApi\n",
    "\n",
    "api = KaggleApi()\n",
    "api.authenticate()\n",
    "\n",
    "#dataset = \"wine-quality\"  # original competition dataset\n",
    "dataset_test = \"sahideseker/wine-quality-classification\"  # test set augmented with target labels\n",
    "download_folder = Path(\"data/wine-quality\")\n",
    "download_folder.mkdir(parents=True, exist_ok=True)\n",
    "inputFilePath = download_folder / \"wine_quality_classification.csv\"\n",
    "\n",
    "#api.competition_download_files(dataset, path=str(download_folder))\n",
    "api.dataset_download_files(dataset_test, path=str(download_folder), unzip=True)\n",
    "print(\"Download complete.\")\n",
    "print(f\"Path to file: {inputFilePath}\")"
   ]
  },
  {
   "cell_type": "markdown",
   "id": "5deec18a",
   "metadata": {},
   "source": [
    "### Data exploration"
   ]
  },
  {
   "cell_type": "code",
   "execution_count": 12,
   "id": "ca4f68e7",
   "metadata": {},
   "outputs": [
    {
     "name": "stdout",
     "output_type": "stream",
     "text": [
      "   fixed_acidity  residual_sugar  alcohol  density quality_label\n",
      "0            9.3             6.4     13.6   1.0005          high\n",
      "1           11.2             2.0     14.0   0.9912        medium\n",
      "2           11.6             0.9      8.2   0.9935           low\n",
      "3           12.9             6.6     12.7   1.0002           low\n",
      "4           13.9            13.8     10.4   0.9942        medium\n"
     ]
    }
   ],
   "source": [
    "import pandas as pd\n",
    "import numpy as np\n",
    "\n",
    "# Load the dataset\n",
    "ds = pd.read_csv(inputFilePath)\n",
    "print(ds.head())"
   ]
  },
  {
   "cell_type": "code",
   "execution_count": 15,
   "id": "32adca02",
   "metadata": {},
   "outputs": [
    {
     "name": "stdout",
     "output_type": "stream",
     "text": [
      "Null values in each column:\n",
      "fixed_acidity     0\n",
      "residual_sugar    0\n",
      "alcohol           0\n",
      "density           0\n",
      "quality_label     0\n",
      "dtype: int64\n",
      "Duplicate rows in the dataset:\n",
      "0\n",
      "Class imbalance in the target variable:\n",
      "quality_label\n",
      "medium    355\n",
      "high      343\n",
      "low       302\n",
      "Name: count, dtype: int64\n",
      "Outliers in the dataset:\n",
      "       fixed_acidity  residual_sugar      alcohol      density\n",
      "count    1000.000000      1000.00000  1000.000000  1000.000000\n",
      "mean       10.174300         7.69200    11.039900     0.997505\n",
      "std         3.452693         4.20892     1.760283     0.004300\n",
      "min         4.000000         0.50000     8.000000     0.990000\n",
      "25%         7.100000         4.10000     9.500000     0.993900\n",
      "50%        10.400000         7.55000    11.000000     0.997400\n",
      "75%        13.125000        11.50000    12.600000     1.001200\n",
      "max        16.000000        15.00000    14.000000     1.005000\n",
      "Data types of each column:\n",
      "fixed_acidity     float64\n",
      "residual_sugar    float64\n",
      "alcohol           float64\n",
      "density           float64\n",
      "quality_label      object\n",
      "dtype: object\n"
     ]
    }
   ],
   "source": [
    "#Check for missing values\n",
    "print(\"Null values in each column:\")\n",
    "print(ds.isnull().sum())\n",
    "#Check for duplicates\n",
    "print(\"Duplicate rows in the dataset:\")\n",
    "print(ds.duplicated().sum())\n",
    "#Check for class imbalance\n",
    "print(\"Class imbalance in the target variable:\")\n",
    "print(ds['quality_label'].value_counts())\n",
    "#Check for outliers\n",
    "print(\"Outliers in the dataset:\")\n",
    "print(ds.describe())\n",
    "#Check for data types\n",
    "print(\"Data types of each column:\")\n",
    "print(ds.dtypes)"
   ]
  },
  {
   "cell_type": "markdown",
   "id": "e54ed689",
   "metadata": {},
   "source": [
    "#### Divide the data"
   ]
  },
  {
   "cell_type": "code",
   "execution_count": null,
   "id": "5053f608",
   "metadata": {},
   "outputs": [
    {
     "name": "stdout",
     "output_type": "stream",
     "text": [
      "Train test split complete.\n"
     ]
    }
   ],
   "source": [
    "#train test split\n",
    "from sklearn.model_selection import train_test_split\n",
    "\n",
    "X = ds.drop(columns=['quality_label'])\n",
    "y = ds['quality_label']\n",
    "\n",
    "X_train, X_test, y_train, y_test = train_test_split(X, y, test_size=0.2, random_state=42)\n",
    "print(\"Train test split complete.\")\n"
   ]
  },
  {
   "cell_type": "code",
   "execution_count": 30,
   "id": "6048a625",
   "metadata": {},
   "outputs": [
    {
     "name": "stdout",
     "output_type": "stream",
     "text": [
      "X_train shape: (800, 4)\n",
      "X_test shape: (200, 4)\n"
     ]
    }
   ],
   "source": [
    "#Check size of the split\n",
    "print(f\"X_train shape: {X_train.shape}\")\n",
    "print(f\"X_test shape: {X_test.shape}\")"
   ]
  },
  {
   "cell_type": "code",
   "execution_count": 21,
   "id": "c14bc009",
   "metadata": {},
   "outputs": [],
   "source": [
    "#Model training\n",
    "from sklearn.ensemble import RandomForestClassifier\n",
    "from sklearn.metrics import classification_report, confusion_matrix\n",
    "from sklearn.model_selection import GridSearchCV\n",
    "\n",
    "# Define the model\n",
    "model = RandomForestClassifier(random_state=42)\n",
    "# Define the hyperparameters to tune\n",
    "param_grid = {\n",
    "    'n_estimators': [100, 200],\n",
    "    'max_depth': [None, 10, 20],\n",
    "    'min_samples_split': [2, 5],\n",
    "    'min_samples_leaf': [1, 2]\n",
    "}\n"
   ]
  },
  {
   "cell_type": "code",
   "execution_count": 22,
   "id": "c0947c05",
   "metadata": {},
   "outputs": [
    {
     "name": "stdout",
     "output_type": "stream",
     "text": [
      "Fitting 3 folds for each of 24 candidates, totalling 72 fits\n",
      "Model training complete.\n"
     ]
    }
   ],
   "source": [
    "# Perform grid search\n",
    "grid_search = GridSearchCV(model, param_grid, cv=3, n_jobs=-1, verbose=2)\n",
    "# Fit the model\n",
    "grid_search.fit(X_train, y_train)\n",
    "# Get the best model\n",
    "best_model = grid_search.best_estimator_\n",
    "print(\"Model training complete.\")\n"
   ]
  },
  {
   "cell_type": "code",
   "execution_count": 29,
   "id": "0b8aab6c",
   "metadata": {},
   "outputs": [
    {
     "name": "stdout",
     "output_type": "stream",
     "text": [
      "Model evaluation:\n",
      "              precision    recall  f1-score   support\n",
      "\n",
      "        high       0.33      0.34      0.34        71\n",
      "         low       0.30      0.26      0.28        62\n",
      "      medium       0.36      0.40      0.38        67\n",
      "\n",
      "    accuracy                           0.34       200\n",
      "   macro avg       0.33      0.33      0.33       200\n",
      "weighted avg       0.33      0.34      0.33       200\n",
      "\n",
      "Confusion matrix:\n",
      "[[24 22 25]\n",
      " [24 16 22]\n",
      " [24 16 27]]\n"
     ]
    },
    {
     "data": {
      "image/png": "[encoded data removed]",
      "text/plain": [
       "<Figure size 640x480 with 2 Axes>"
      ]
     },
     "metadata": {},
     "output_type": "display_data"
    }
   ],
   "source": [
    "# Make predictions\n",
    "y_pred = best_model.predict(X_test)\n",
    "# Evaluate the model\n",
    "print(\"Model evaluation:\")\n",
    "print(classification_report(y_test, y_pred))\n",
    "print(\"Confusion matrix:\")\n",
    "print(confusion_matrix(y_test, y_pred))\n",
    "\n",
    "# Present confusion matrix\n",
    "import matplotlib.pyplot as plt\n",
    "import seaborn as sns\n",
    "from sklearn.metrics import ConfusionMatrixDisplay\n",
    "cm = confusion_matrix(y_test, y_pred)\n",
    "disp = ConfusionMatrixDisplay(confusion_matrix=cm, display_labels=best_model.classes_)\n",
    "disp.plot(cmap=plt.cm.Blues)\n",
    "plt.title(\"Confusion Matrix\")\n",
    "plt.show()"
   ]
  },
  {
   "cell_type": "code",
   "execution_count": 35,
   "id": "c4c393d2",
   "metadata": {},
   "outputs": [
    {
     "name": "stdout",
     "output_type": "stream",
     "text": [
      "Fitting 3 folds for each of 54 candidates, totalling 162 fits\n",
      "Model training complete.\n"
     ]
    }
   ],
   "source": [
    "# Change model to Catboost\n",
    "from catboost import CatBoostClassifier\n",
    "# Define the model\n",
    "model = CatBoostClassifier(iterations=1000, learning_rate=0.1, depth=6, random_seed=42, verbose=0)\n",
    "# Define the hyperparameters to tune\n",
    "param_grid = {\n",
    "    'iterations': [100, 200],\n",
    "    'depth': [4, 6, 8],\n",
    "    'learning_rate': [0.01, 0.1, 0.2],\n",
    "    'l2_leaf_reg': [1, 3, 5]\n",
    "}\n",
    "# Perform grid search\n",
    "grid_search = GridSearchCV(model, param_grid, cv=3, n_jobs=-1, verbose=2)\n",
    "# Fit the model\n",
    "grid_search.fit(X_train, y_train)\n",
    "# Get the best model\n",
    "best_model = grid_search.best_estimator_\n",
    "print(\"Model training complete.\")\n"
   ]
  },
  {
   "cell_type": "code",
   "execution_count": 36,
   "id": "f38c24f1",
   "metadata": {},
   "outputs": [
    {
     "name": "stdout",
     "output_type": "stream",
     "text": [
      "Model evaluation:\n",
      "              precision    recall  f1-score   support\n",
      "\n",
      "        high       0.35      0.35      0.35        71\n",
      "         low       0.21      0.05      0.08        62\n",
      "      medium       0.37      0.64      0.47        67\n",
      "\n",
      "    accuracy                           0.35       200\n",
      "   macro avg       0.31      0.35      0.30       200\n",
      "weighted avg       0.32      0.35      0.31       200\n",
      "\n",
      "Confusion matrix:\n",
      "[[25  9 37]\n",
      " [24  3 35]\n",
      " [22  2 43]]\n"
     ]
    },
    {
     "data": {
      "image/png": "[encoded data removed]",
      "text/plain": [
       "<Figure size 640x480 with 2 Axes>"
      ]
     },
     "metadata": {},
     "output_type": "display_data"
    }
   ],
   "source": [
    "# Predict\n",
    "y_pred = best_model.predict(X_test)\n",
    "# Evaluate the model\n",
    "print(\"Model evaluation:\")\n",
    "print(classification_report(y_test, y_pred))\n",
    "print(\"Confusion matrix:\")\n",
    "print(confusion_matrix(y_test, y_pred))\n",
    "# Present confusion matrix\n",
    "cm = confusion_matrix(y_test, y_pred)\n",
    "disp = ConfusionMatrixDisplay(confusion_matrix=cm, display_labels=best_model.classes_)\n",
    "disp.plot(cmap=plt.cm.Blues)\n",
    "plt.title(\"Confusion Matrix\")\n",
    "plt.show()"
   ]
  }
 ],
 "metadata": {
  "kernelspec": {
   "display_name": ".venv",
   "language": "python",
   "name": "python3"
  },
  "language_info": {
   "codemirror_mode": {
    "name": "ipython",
    "version": 3
   },
   "file_extension": ".py",
   "mimetype": "text/x-python",
   "name": "python",
   "nbconvert_exporter": "python",
   "pygments_lexer": "ipython3",
   "version": "3.11.9"
  }
 },
 "nbformat": 4,
 "nbformat_minor": 5
}
